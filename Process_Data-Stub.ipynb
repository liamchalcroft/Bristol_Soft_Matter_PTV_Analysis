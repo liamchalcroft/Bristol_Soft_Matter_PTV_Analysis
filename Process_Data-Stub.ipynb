{
 "cells": [
  {
   "cell_type": "code",
   "execution_count": 19,
   "metadata": {},
   "outputs": [],
   "source": [
    "#imports and set up\n",
    "\n",
    "from __future__ import division, unicode_literals, print_function  # for compatibility with Python 2 and 3\n",
    "from IPython.display import display\n",
    "import math\n",
    "import matplotlib as mpl\n",
    "import matplotlib.pyplot as plt\n",
    "import os\n",
    "import time\n",
    "import sys\n",
    "from process_pickle import process_pickle\n",
    "%matplotlib inline\n",
    "from ipywidgets import interact, interactive, fixed #Sliders for image selection\n",
    "import ipywidgets as widgets\n",
    "mpl.rc('figure',  figsize=(4.77, 2.95))\n",
    "mpl.rc('font', **{'family': 'serif', 'serif': ['Computer Modern']})\n",
    "mpl.rcParams['lines.linewidth'] = 0.6\n",
    "mpl.rcParams['lines.color'] = 'r'\n",
    "plt.rc('grid', linestyle=\"--\", color='gray')\n",
    "\n",
    "\n",
    "import numpy as np\n",
    "import pandas as pd\n",
    "from pandas import DataFrame, Series  \n",
    "\n",
    "import pims\n",
    "import trackpy as tp\n",
    "import os"
   ]
  },
  {
   "cell_type": "code",
   "execution_count": 20,
   "metadata": {},
   "outputs": [],
   "source": [
    "# function that is called to configure how plots are to be drawn\n",
    "\n",
    "def setup_plot():\n",
    "    ax = plt.gca()\n",
    "    SPINE_COLOR = 'gray'\n",
    "    for spine in ['top', 'right']:\n",
    "            ax.spines[spine].set_visible(False)\n",
    "\n",
    "    for spine in ['left', 'bottom']:\n",
    "        ax.spines[spine].set_color(SPINE_COLOR)\n",
    "        ax.spines[spine].set_linewidth(0.5)\n",
    "\n",
    "    ax.xaxis.set_ticks_position('bottom')\n",
    "    ax.yaxis.set_ticks_position('left')\n",
    "\n",
    "    for axis in [ax.xaxis, ax.yaxis]:\n",
    "        axis.set_tick_params(direction='out', color=SPINE_COLOR)\n",
    "    plt.grid()\n",
    "    fig = plt.gcf()\n",
    "    fig.set_size_inches(4.77, 2.95, forward=True)"
   ]
  },
  {
   "cell_type": "markdown",
   "metadata": {},
   "source": [
    "Use the file picker to locate the .pkl containing the particle trajectories\n",
    "\n",
    "or select a previously output .xlsx to skip the calculations\n",
    "\n",
    "**If it doesn't appear you probably need to minimise your browser or alt tab around for it**"
   ]
  },
  {
   "cell_type": "code",
   "execution_count": 21,
   "metadata": {},
   "outputs": [],
   "source": [
    "set_custom_data_directory = True"
   ]
  },
  {
   "cell_type": "code",
   "execution_count": 22,
   "metadata": {},
   "outputs": [],
   "source": [
    "# select the .pkl files you wish to analyse. When you're done selecting cancel should\n",
    "# allow you to continue to the next cell.\n",
    "\n",
    "import tkinter as tk\n",
    "from tkinter import filedialog\n",
    "\n",
    "pkl_to_process = []\n",
    "file_path = \"1\"\n",
    "while len(file_path) != 0:\n",
    "    root = tk.Tk()\n",
    "    root.withdraw()\n",
    "    file_path = filedialog.askopenfilename()\n",
    "    if len(file_path) != 0:\n",
    "        pkl_to_process.append(file_path)"
   ]
  },
  {
   "cell_type": "code",
   "execution_count": 23,
   "metadata": {
    "scrolled": true
   },
   "outputs": [
    {
     "data": {
      "text/plain": [
       "['C:/Users/lc16629/OneDrive - University of Bristol/Desktop/Python/500frm sample - 26-1-18 0.8gL 25C 1min/trajectories.pkl']"
      ]
     },
     "execution_count": 23,
     "metadata": {},
     "output_type": "execute_result"
    }
   ],
   "source": [
    "# confirm you've selected the correct files\n",
    "\n",
    "pkl_to_process"
   ]
  },
  {
   "cell_type": "code",
   "execution_count": 24,
   "metadata": {},
   "outputs": [],
   "source": [
    "calculate = True"
   ]
  },
  {
   "cell_type": "code",
   "execution_count": 25,
   "metadata": {
    "scrolled": true
   },
   "outputs": [
    {
     "name": "stdout",
     "output_type": "stream",
     "text": [
      "C:/Users/lc16629/OneDrive - University of Bristol/Desktop/Python/500frm sample - 26-1-18 0.8gL 25C 1min/trajectories.pkl\n",
      "Setting Parameters...\n"
     ]
    },
    {
     "name": "stdin",
     "output_type": "stream",
     "text": [
      "How many frames to look back for velocity calculations?  1\n",
      "Enter NEXT to move to next pkl, anything else to add another analysis run for the current particle NEXT\n"
     ]
    }
   ],
   "source": [
    "# configure the calculations to be carried out on the data contained in the .pkl files\n",
    "# if you don't enter \"NEXT\" at the end you can queue another set of calculations to be carried out on the \n",
    "# same .pkl, e.g with a frame lookback.\n",
    "pkl_param = []\n",
    "\n",
    "i = 0\n",
    "mpp = 15 # microns per pixel\n",
    "timestep = 30 # seconds between images\n",
    "\n",
    "while i < len(pkl_to_process):\n",
    "    print(pkl_to_process[i])\n",
    "    print(\"Setting Parameters...\")\n",
    "    # uncomment the below lines to set mpp or timestep on a per .pkl basis\n",
    "    #mpp = int(input(\"Microns per Pixel: \"))\n",
    "    #timestep = int(input(\"Time between frames in seconds: \"))\n",
    "    frame_lookback = int(input(\"How many frames to look back for velocity calculations? \"))\n",
    "    pkl_param.append([i,mpp,timestep,frame_lookback])\n",
    "    move_next = input(\"Enter NEXT to move to next pkl, anything else to add another analysis run for the current particle\")\n",
    "    if move_next == \"NEXT\":\n",
    "        i += 1\n",
    "    "
   ]
  },
  {
   "cell_type": "code",
   "execution_count": 26,
   "metadata": {},
   "outputs": [
    {
     "data": {
      "text/plain": [
       "[[0, 15, 30, 1]]"
      ]
     },
     "execution_count": 26,
     "metadata": {},
     "output_type": "execute_result"
    }
   ],
   "source": [
    "pkl_param"
   ]
  },
  {
   "cell_type": "code",
   "execution_count": 27,
   "metadata": {
    "scrolled": true
   },
   "outputs": [],
   "source": [
    "# for the sets of calculations you've requested, select folders to store the results for each set in.\n",
    "\n",
    "data_dirs = []\n",
    "data_dir = True\n",
    "counter = 0\n",
    "for i in pkl_param:\n",
    "    root = tk.Tk()\n",
    "    root.withdraw()\n",
    "    data_dir = filedialog.askdirectory(title=\"Pick data dir for {} {}\".format(pkl_to_process[i[0]], i[3]))\n",
    "    data_dirs.append(data_dir)"
   ]
  },
  {
   "cell_type": "code",
   "execution_count": 28,
   "metadata": {},
   "outputs": [],
   "source": [
    "# if the folders you've requested the results stored in don't exist, make them:\n",
    "\n",
    "for directory in data_dirs:\n",
    "    if not os.path.exists(directory):\n",
    "        os.makedirs(directory)"
   ]
  },
  {
   "cell_type": "code",
   "execution_count": 17,
   "metadata": {
    "jupyter": {
     "source_hidden": true
    }
   },
   "outputs": [],
   "source": [
    "# function called to draw the charts of the results\n",
    "\n",
    "def produce_charts(df, general_directory):\n",
    "    if not os.path.exists(general_directory + \"/figures\"):\n",
    "        os.makedirs(general_directory + \"/figures\")\n",
    "    no_bins = df.bin.max() + 1    \n",
    "    av_disp_by_frame = df.groupby('frame').displacement.mean().sort_index()\n",
    "    xs = av_disp_by_frame.index.values\n",
    "    ys = av_disp_by_frame.values\n",
    "    plt.figure()\n",
    "    setup_plot()\n",
    "    plt.plot(xs, ys)\n",
    "    plt.ylabel(\"Displacement / px\")\n",
    "    plt.xlabel(\"Frame\")\n",
    "    plt.tight_layout()\n",
    "    plt.savefig(general_directory + \"/figures/Average_displacement.pdf\")\n",
    "    fig = plt.gcf()\n",
    "\n",
    "\n",
    "    disp_vels = df.groupby('particle').velocity.mean()\n",
    "    plt.figure()\n",
    "    setup_plot()\n",
    "    plt.xlabel(\"Velocity / ms$^-1$\")\n",
    "    plt.ticklabel_format(style='sci', axis='x', scilimits=(0,0))\n",
    "    plt.hist(disp_vels, bins=20)\n",
    "    plt.savefig(general_directory + \"/figures/Velocity Distribution by Displacement.pdf\")\n",
    "\n",
    "\n",
    "    y_vels = df.groupby('particle').y_velocity.mean()\n",
    "    plt.figure()\n",
    "    setup_plot()\n",
    "    plt.xlabel(\"Velocity / ms$^-1$\")\n",
    "    plt.ticklabel_format(style='sci', axis='x', scilimits=(0,0))\n",
    "    plt.hist(y_vels, bins=20)\n",
    "    plt.savefig(general_directory + \"/figures/Velocity Distribution by Y Velocity.pdf\")\n",
    "\n",
    "\n",
    "\n",
    "    av_vel_by_frame = df.groupby('frame').velocity.mean().sort_index()\n",
    "    xs = av_vel_by_frame.index.values\n",
    "    ys = av_vel_by_frame.values\n",
    "    plt.figure()\n",
    "    setup_plot()\n",
    "    plt.ticklabel_format(style='sci', axis='y', scilimits=(0,0))\n",
    "    plt.autoscale(enable=True, axis='both', tight=True)\n",
    "    plt.ylabel(\"Velocity / ms$^-1$\")\n",
    "    plt.xlabel(\"Frame\")\n",
    "    plt.autoscale(True)\n",
    "    plt.tight_layout()\n",
    "    plt.plot(xs, ys,)\n",
    "    plt.savefig(general_directory + \"/figures/Average_Velocity by Displacement.pdf\")\n",
    "\n",
    "    av_vel_by_frame = df.groupby('frame').y_velocity.mean().sort_index()\n",
    "    xs = av_vel_by_frame.index.values\n",
    "    ys = av_vel_by_frame.values\n",
    "    plt.figure()\n",
    "    setup_plot()\n",
    "    plt.ticklabel_format(style='sci', axis='y', scilimits=(0,0))\n",
    "    plt.autoscale(enable=True, axis='both', tight=True)\n",
    "    plt.ylabel(\"Velocity / ms$^-1$\")\n",
    "    plt.xlabel(\"Frame\")\n",
    "    plt.autoscale(True)\n",
    "    plt.plot(xs, ys)\n",
    "    plt.savefig(general_directory + \"/figures/Average_Velocity by Y Position.pdf\")\n",
    "    \n",
    "    av_vel_by_frame = df.groupby('frame').x_velocity.mean().sort_index()\n",
    "    xs = av_vel_by_frame.index.values\n",
    "    ys = av_vel_by_frame.values\n",
    "    plt.figure()\n",
    "    setup_plot()\n",
    "    plt.ticklabel_format(style='sci', axis='y', scilimits=(0,0))\n",
    "    plt.autoscale(enable=True, axis='both', tight=True)\n",
    "    plt.ylabel(\"Velocity / ms$^-1$\")\n",
    "    plt.xlabel(\"Frame\")\n",
    "    plt.autoscale(True)\n",
    "    plt.tight_layout()\n",
    "    plt.plot(xs, ys)\n",
    "    plt.savefig(general_directory + \"/figures/Average_Velocity by X Position.pdf\")\n",
    "    \n",
    "    av_vel_by_frame = df.groupby('frame').hyp_vel.mean().sort_index()\n",
    "    xs = av_vel_by_frame.index.values\n",
    "    ys = av_vel_by_frame.values\n",
    "    plt.figure()\n",
    "    setup_plot()\n",
    "    plt.ticklabel_format(style='sci', axis='y', scilimits=(0,0))\n",
    "    plt.autoscale(enable=True, axis='both', tight=True)\n",
    "    plt.ylabel(\"Velocity / ms$^-1$\")\n",
    "    plt.xlabel(\"Frame\")\n",
    "    plt.autoscale(True)\n",
    "    plt.tight_layout()\n",
    "    plt.plot(xs, ys)\n",
    "\n",
    "    plt.savefig(general_directory + \"/figures/Average_Velocity.pdf\")\n",
    "\n",
    "    spacings = []\n",
    "    for x in df.frame.unique():\n",
    "        w_df = df[df['frame']==x]\n",
    "        spacings.append(tp.proximity(w_df)['proximity'].mean())\n",
    "    plt.figure()\n",
    "    setup_plot()\n",
    "    plt.ylabel(\"Distance / px\")\n",
    "    plt.xlabel(\"Frame\")\n",
    "    plt.plot(spacings)\n",
    "    plt.savefig(general_directory + \"/figures/nearest_neighbour.pdf\")\n",
    "\n",
    "    bin_vels = df.groupby('bin').hyp_vel.mean()\n",
    "    plt.figure()\n",
    "    bin_vels_to_plot = []\n",
    "    for c, v in enumerate(bin_vels):\n",
    "        bin_vels_to_plot.append((c, v))\n",
    "\n",
    "    err = df.groupby('bin').hyp_vel.std()\n",
    "    x = [x[0] for x in bin_vels_to_plot]\n",
    "    y = [x[1] for x in bin_vels_to_plot]\n",
    "    plt.ticklabel_format(style='sci', axis='y', scilimits=(0,0))\n",
    "    setup_plot()\n",
    "    plt.ylabel(\"Velocity / ms$^-1$\")\n",
    "    plt.xlabel(\"x position (\" + str(no_bins) +\" equally spaced bins)\")\n",
    "    plt.tight_layout()\n",
    "    plt.bar(x, y, yerr = err, error_kw=dict(elinewidth=2,ecolor='black'))\n",
    "\n",
    "    plt.savefig(general_directory + \"/figures/x_binned_velocity.pdf\")\n",
    "    \n",
    "    bin_vels = df.groupby('bin').y_velocity.mean()\n",
    "    plt.figure()\n",
    "    bin_vels_to_plot = []\n",
    "    for c, v in enumerate(bin_vels):\n",
    "        bin_vels_to_plot.append((c, v))\n",
    "\n",
    "    err = df.groupby('bin').y_velocity.std()\n",
    "    x = [x[0] for x in bin_vels_to_plot]\n",
    "    y = [x[1] for x in bin_vels_to_plot]\n",
    "    plt.ticklabel_format(style='sci', axis='y', scilimits=(0,0))\n",
    "    setup_plot()\n",
    "    plt.ylabel(\"Velocity / ms$^-1$\")\n",
    "    plt.xlabel(\"x position (\" + str(no_bins) +\" equally spaced bins)\")\n",
    "    plt.tight_layout()\n",
    "    plt.bar(x, y, yerr = err, error_kw=dict(elinewidth=2,ecolor='black'))\n",
    "\n",
    "    plt.savefig(general_directory + \"/figures/x_binned_y_velocity.pdf\")\n",
    "    \n",
    "    \n",
    "\n",
    "    def x_hist(frame):\n",
    "        w_df = df[df.frame == frame].copy()\n",
    "        bin_vels = w_df.groupby('bin').hyp_vel.mean()\n",
    "        plt.figure()\n",
    "        bin_vels_to_plot = []\n",
    "        for c, v in enumerate(bin_vels):\n",
    "            bin_vels_to_plot.append((c, v))\n",
    "        x = [x[0] for x in bin_vels_to_plot]\n",
    "        y = [x[1] for x in bin_vels_to_plot]\n",
    "        plt.ticklabel_format(style='sci', axis='y', scilimits=(0,0))\n",
    "        setup_plot()\n",
    "        plt.ylabel(\"Velocity / ms$^-1$\")\n",
    "        plt.xlabel(\"x position (\" + str(no_bins) +\" equally spaced bins)\")\n",
    "        plt.xlim(0, 20)\n",
    "        plt.bar(x, y)\n",
    "\n",
    "\n",
    "\n",
    "    ### Set use_y_vel_only to true to plot only the y component of the particles' velocities\n",
    "\n",
    "    from mpl_toolkits.mplot3d import Axes3D\n",
    "    use_y_vel_only = True\n",
    "\n",
    "    if use_y_vel_only:\n",
    "        a = df.groupby([(df.frame // 50) * 50 , 'bin']).y_velocity.mean().fillna(0)\n",
    "    else:\n",
    "        a = df.groupby([(df.frame // 50) * 50 , 'bin']).hyp_vel.mean().fillna(0)\n",
    "\n",
    "    xs = []\n",
    "    ys = []\n",
    "    zs = []\n",
    "    xs = [x[1] for x in a.index.values]\n",
    "    zs = [x[0] for x in a.index.values]\n",
    "\n",
    "    for x in a:\n",
    "        ys.append(x * 1*10**6)  \n",
    "\n",
    "\n",
    "\n",
    "    colours_alt = []\n",
    "    options = ['r','g', 'b']\n",
    "    option_index = 0\n",
    "    prev_a = 99\n",
    "    for a in xs:\n",
    "        if a <= prev_a:\n",
    "            option_index += 1\n",
    "            if (option_index)  >= len(options):\n",
    "                option_index = 0\n",
    "        colours_alt.append(options[option_index])\n",
    "        prev_a = a  \n",
    "\n",
    "    r = 0.99\n",
    "    colours = []\n",
    "    add = r / len(xs)\n",
    "    for x in range(len(xs)):\n",
    "        colours.append((r, 0, 1 -r))\n",
    "        r -= add\n",
    "\n",
    "    %matplotlib inline\n",
    "    from mpl_toolkits.mplot3d import Axes3D\n",
    "    fig = plt.figure()\n",
    "    ax = fig.add_subplot(111, projection='3d')\n",
    "    ax.bar(xs, ys, zs=zs, zdir = 'y', color = colours)\n",
    "    ax.set_xlabel('x bin')\n",
    "    ax.set_zlabel('Average velocity / um s-1')\n",
    "    ax.set_ylabel('Frame')\n",
    "    plt.show()\n",
    "    plt.savefig(general_directory + \"/figures/3d_bar_vel.pdf\")\n",
    "\n",
    "    fig = plt.figure()\n",
    "    ax = fig.add_subplot(111, projection='3d')\n",
    "    ax.scatter(xs, zs, ys, color = colours)\n",
    "    ax.set_xlabel('x bin')\n",
    "    ax.set_zlabel('Average velocity / um s-1')\n",
    "    ax.set_ylabel('Frame')\n",
    "    plt.show() \n",
    "\n",
    "    ax = df.groupby('frame')['x'].count().plot()\n",
    "    fig = ax.get_figure()\n",
    "    fig.savefig(general_directory + \"/figures/particles_in_frame.pdf\")\n",
    "\n",
    "    "
   ]
  },
  {
   "cell_type": "code",
   "execution_count": 29,
   "metadata": {},
   "outputs": [
    {
     "name": "stdout",
     "output_type": "stream",
     "text": [
      " Calculating Displacement for particles: 100.00%\n",
      "\n",
      " Calculating Velocity for particle: 1.44%"
     ]
    },
    {
     "name": "stderr",
     "output_type": "stream",
     "text": [
      "C:\\Users\\lc16629\\OneDrive - University of Bristol\\Desktop\\Python\\Trajectory analysis code\\process_pickle_quiver.py:84: FutureWarning: set_value is deprecated and will be removed in a future release. Please use .at[] or .iat[] accessors instead\n",
      "  df1.set_value(ind, 'velocity', vel )\n"
     ]
    },
    {
     "name": "stdout",
     "output_type": "stream",
     "text": [
      " Calculating Velocity for particle: 100.00%\n",
      "\n",
      " Calculating Y Velocity for particle: 1.32%"
     ]
    },
    {
     "name": "stderr",
     "output_type": "stream",
     "text": [
      "C:\\Users\\lc16629\\OneDrive - University of Bristol\\Desktop\\Python\\Trajectory analysis code\\process_pickle_quiver.py:114: FutureWarning: set_value is deprecated and will be removed in a future release. Please use .at[] or .iat[] accessors instead\n",
      "  final_df.set_value(ind, 'y_velocity', y_vel )\n"
     ]
    },
    {
     "name": "stdout",
     "output_type": "stream",
     "text": [
      " Calculating Y Velocity for particle: 100.00%\n",
      "\n",
      " Calculating X Velocity for particle: 1.32%"
     ]
    },
    {
     "name": "stderr",
     "output_type": "stream",
     "text": [
      "C:\\Users\\lc16629\\OneDrive - University of Bristol\\Desktop\\Python\\Trajectory analysis code\\process_pickle_quiver.py:137: FutureWarning: set_value is deprecated and will be removed in a future release. Please use .at[] or .iat[] accessors instead\n",
      "  final_df.set_value(ind, 'x_velocity', x_vel)\n"
     ]
    },
    {
     "name": "stdout",
     "output_type": "stream",
     "text": [
      " Calculating X Velocity for particle: 100.00%\n",
      "\n",
      "Storing data...\n",
      "Finished\n",
      "\n",
      "\n",
      "Creating data plots...\n",
      "\n",
      "\n",
      " Creating dataframes for particles: 0.00%"
     ]
    },
    {
     "name": "stderr",
     "output_type": "stream",
     "text": [
      "C:\\Users\\lc16629\\AppData\\Local\\Continuum\\anaconda3\\lib\\site-packages\\ipykernel_launcher.py:28: DeprecationWarning: \n",
      ".ix is deprecated. Please use\n",
      ".loc for label based indexing or\n",
      ".iloc for positional indexing\n",
      "\n",
      "See the documentation here:\n",
      "http://pandas.pydata.org/pandas-docs/stable/indexing.html#ix-indexer-is-deprecated\n",
      "C:\\Users\\lc16629\\AppData\\Local\\Continuum\\anaconda3\\lib\\site-packages\\ipykernel_launcher.py:29: DeprecationWarning: \n",
      ".ix is deprecated. Please use\n",
      ".loc for label based indexing or\n",
      ".iloc for positional indexing\n",
      "\n",
      "See the documentation here:\n",
      "http://pandas.pydata.org/pandas-docs/stable/indexing.html#ix-indexer-is-deprecated\n",
      "C:\\Users\\lc16629\\AppData\\Local\\Continuum\\anaconda3\\lib\\site-packages\\ipykernel_launcher.py:30: DeprecationWarning: \n",
      ".ix is deprecated. Please use\n",
      ".loc for label based indexing or\n",
      ".iloc for positional indexing\n",
      "\n",
      "See the documentation here:\n",
      "http://pandas.pydata.org/pandas-docs/stable/indexing.html#ix-indexer-is-deprecated\n",
      "C:\\Users\\lc16629\\AppData\\Local\\Continuum\\anaconda3\\lib\\site-packages\\ipykernel_launcher.py:31: DeprecationWarning: \n",
      ".ix is deprecated. Please use\n",
      ".loc for label based indexing or\n",
      ".iloc for positional indexing\n",
      "\n",
      "See the documentation here:\n",
      "http://pandas.pydata.org/pandas-docs/stable/indexing.html#ix-indexer-is-deprecated\n",
      "C:\\Users\\lc16629\\AppData\\Local\\Continuum\\anaconda3\\lib\\site-packages\\ipykernel_launcher.py:32: DeprecationWarning: \n",
      ".ix is deprecated. Please use\n",
      ".loc for label based indexing or\n",
      ".iloc for positional indexing\n",
      "\n",
      "See the documentation here:\n",
      "http://pandas.pydata.org/pandas-docs/stable/indexing.html#ix-indexer-is-deprecated\n",
      "C:\\Users\\lc16629\\AppData\\Local\\Continuum\\anaconda3\\lib\\site-packages\\ipykernel_launcher.py:33: DeprecationWarning: \n",
      ".ix is deprecated. Please use\n",
      ".loc for label based indexing or\n",
      ".iloc for positional indexing\n",
      "\n",
      "See the documentation here:\n",
      "http://pandas.pydata.org/pandas-docs/stable/indexing.html#ix-indexer-is-deprecated\n",
      "C:\\Users\\lc16629\\AppData\\Local\\Continuum\\anaconda3\\lib\\site-packages\\ipykernel_launcher.py:37: FutureWarning: set_value is deprecated and will be removed in a future release. Please use .at[] or .iat[] accessors instead\n",
      "C:\\Users\\lc16629\\AppData\\Local\\Continuum\\anaconda3\\lib\\site-packages\\ipykernel_launcher.py:38: FutureWarning: set_value is deprecated and will be removed in a future release. Please use .at[] or .iat[] accessors instead\n",
      "C:\\Users\\lc16629\\AppData\\Local\\Continuum\\anaconda3\\lib\\site-packages\\ipykernel_launcher.py:39: FutureWarning: set_value is deprecated and will be removed in a future release. Please use .at[] or .iat[] accessors instead\n",
      "C:\\Users\\lc16629\\AppData\\Local\\Continuum\\anaconda3\\lib\\site-packages\\ipykernel_launcher.py:40: FutureWarning: set_value is deprecated and will be removed in a future release. Please use .at[] or .iat[] accessors instead\n",
      "C:\\Users\\lc16629\\AppData\\Local\\Continuum\\anaconda3\\lib\\site-packages\\ipykernel_launcher.py:41: FutureWarning: set_value is deprecated and will be removed in a future release. Please use .at[] or .iat[] accessors instead\n",
      "C:\\Users\\lc16629\\AppData\\Local\\Continuum\\anaconda3\\lib\\site-packages\\ipykernel_launcher.py:42: FutureWarning: set_value is deprecated and will be removed in a future release. Please use .at[] or .iat[] accessors instead\n",
      "C:\\Users\\lc16629\\AppData\\Local\\Continuum\\anaconda3\\lib\\site-packages\\ipykernel_launcher.py:48: DeprecationWarning: \n",
      ".ix is deprecated. Please use\n",
      ".loc for label based indexing or\n",
      ".iloc for positional indexing\n",
      "\n",
      "See the documentation here:\n",
      "http://pandas.pydata.org/pandas-docs/stable/indexing.html#ix-indexer-is-deprecated\n",
      "C:\\Users\\lc16629\\AppData\\Local\\Continuum\\anaconda3\\lib\\site-packages\\ipykernel_launcher.py:49: DeprecationWarning: \n",
      ".ix is deprecated. Please use\n",
      ".loc for label based indexing or\n",
      ".iloc for positional indexing\n",
      "\n",
      "See the documentation here:\n",
      "http://pandas.pydata.org/pandas-docs/stable/indexing.html#ix-indexer-is-deprecated\n",
      "C:\\Users\\lc16629\\AppData\\Local\\Continuum\\anaconda3\\lib\\site-packages\\ipykernel_launcher.py:50: DeprecationWarning: \n",
      ".ix is deprecated. Please use\n",
      ".loc for label based indexing or\n",
      ".iloc for positional indexing\n",
      "\n",
      "See the documentation here:\n",
      "http://pandas.pydata.org/pandas-docs/stable/indexing.html#ix-indexer-is-deprecated\n",
      "C:\\Users\\lc16629\\AppData\\Local\\Continuum\\anaconda3\\lib\\site-packages\\ipykernel_launcher.py:51: DeprecationWarning: \n",
      ".ix is deprecated. Please use\n",
      ".loc for label based indexing or\n",
      ".iloc for positional indexing\n",
      "\n",
      "See the documentation here:\n",
      "http://pandas.pydata.org/pandas-docs/stable/indexing.html#ix-indexer-is-deprecated\n",
      "C:\\Users\\lc16629\\AppData\\Local\\Continuum\\anaconda3\\lib\\site-packages\\ipykernel_launcher.py:52: DeprecationWarning: \n",
      ".ix is deprecated. Please use\n",
      ".loc for label based indexing or\n",
      ".iloc for positional indexing\n",
      "\n",
      "See the documentation here:\n",
      "http://pandas.pydata.org/pandas-docs/stable/indexing.html#ix-indexer-is-deprecated\n",
      "C:\\Users\\lc16629\\AppData\\Local\\Continuum\\anaconda3\\lib\\site-packages\\ipykernel_launcher.py:60: DeprecationWarning: \n",
      ".ix is deprecated. Please use\n",
      ".loc for label based indexing or\n",
      ".iloc for positional indexing\n",
      "\n",
      "See the documentation here:\n",
      "http://pandas.pydata.org/pandas-docs/stable/indexing.html#ix-indexer-is-deprecated\n",
      "C:\\Users\\lc16629\\AppData\\Local\\Continuum\\anaconda3\\lib\\site-packages\\ipykernel_launcher.py:61: DeprecationWarning: \n",
      ".ix is deprecated. Please use\n",
      ".loc for label based indexing or\n",
      ".iloc for positional indexing\n",
      "\n",
      "See the documentation here:\n",
      "http://pandas.pydata.org/pandas-docs/stable/indexing.html#ix-indexer-is-deprecated\n",
      "C:\\Users\\lc16629\\AppData\\Local\\Continuum\\anaconda3\\lib\\site-packages\\ipykernel_launcher.py:62: DeprecationWarning: \n",
      ".ix is deprecated. Please use\n",
      ".loc for label based indexing or\n",
      ".iloc for positional indexing\n",
      "\n",
      "See the documentation here:\n",
      "http://pandas.pydata.org/pandas-docs/stable/indexing.html#ix-indexer-is-deprecated\n",
      "C:\\Users\\lc16629\\AppData\\Local\\Continuum\\anaconda3\\lib\\site-packages\\ipykernel_launcher.py:63: DeprecationWarning: \n",
      ".ix is deprecated. Please use\n",
      ".loc for label based indexing or\n",
      ".iloc for positional indexing\n",
      "\n",
      "See the documentation here:\n",
      "http://pandas.pydata.org/pandas-docs/stable/indexing.html#ix-indexer-is-deprecated\n",
      "C:\\Users\\lc16629\\AppData\\Local\\Continuum\\anaconda3\\lib\\site-packages\\ipykernel_launcher.py:64: DeprecationWarning: \n",
      ".ix is deprecated. Please use\n",
      ".loc for label based indexing or\n",
      ".iloc for positional indexing\n",
      "\n",
      "See the documentation here:\n",
      "http://pandas.pydata.org/pandas-docs/stable/indexing.html#ix-indexer-is-deprecated\n",
      "C:\\Users\\lc16629\\AppData\\Local\\Continuum\\anaconda3\\lib\\site-packages\\ipykernel_launcher.py:67: DeprecationWarning: \n",
      ".ix is deprecated. Please use\n",
      ".loc for label based indexing or\n",
      ".iloc for positional indexing\n",
      "\n",
      "See the documentation here:\n",
      "http://pandas.pydata.org/pandas-docs/stable/indexing.html#ix-indexer-is-deprecated\n",
      "C:\\Users\\lc16629\\AppData\\Local\\Continuum\\anaconda3\\lib\\site-packages\\pandas\\core\\generic.py:5096: SettingWithCopyWarning: \n",
      "A value is trying to be set on a copy of a slice from a DataFrame\n",
      "\n",
      "See the caveats in the documentation: http://pandas.pydata.org/pandas-docs/stable/indexing.html#indexing-view-versus-copy\n",
      "  self[name] = value\n",
      "C:\\Users\\lc16629\\AppData\\Local\\Continuum\\anaconda3\\lib\\site-packages\\ipykernel_launcher.py:68: DeprecationWarning: \n",
      ".ix is deprecated. Please use\n",
      ".loc for label based indexing or\n",
      ".iloc for positional indexing\n",
      "\n",
      "See the documentation here:\n",
      "http://pandas.pydata.org/pandas-docs/stable/indexing.html#ix-indexer-is-deprecated\n",
      "C:\\Users\\lc16629\\AppData\\Local\\Continuum\\anaconda3\\lib\\site-packages\\ipykernel_launcher.py:69: DeprecationWarning: \n",
      ".ix is deprecated. Please use\n",
      ".loc for label based indexing or\n",
      ".iloc for positional indexing\n",
      "\n",
      "See the documentation here:\n",
      "http://pandas.pydata.org/pandas-docs/stable/indexing.html#ix-indexer-is-deprecated\n",
      "C:\\Users\\lc16629\\AppData\\Local\\Continuum\\anaconda3\\lib\\site-packages\\ipykernel_launcher.py:73: DeprecationWarning: \n",
      ".ix is deprecated. Please use\n",
      ".loc for label based indexing or\n",
      ".iloc for positional indexing\n",
      "\n",
      "See the documentation here:\n",
      "http://pandas.pydata.org/pandas-docs/stable/indexing.html#ix-indexer-is-deprecated\n"
     ]
    },
    {
     "ename": "KeyError",
     "evalue": "4499",
     "output_type": "error",
     "traceback": [
      "\u001b[1;31m---------------------------------------------------------------------------\u001b[0m",
      "\u001b[1;31mKeyError\u001b[0m                                  Traceback (most recent call last)",
      "\u001b[1;32m~\\AppData\\Local\\Continuum\\anaconda3\\lib\\site-packages\\pandas\\core\\indexes\\base.py\u001b[0m in \u001b[0;36mget_loc\u001b[1;34m(self, key, method, tolerance)\u001b[0m\n\u001b[0;32m   2656\u001b[0m             \u001b[1;32mtry\u001b[0m\u001b[1;33m:\u001b[0m\u001b[1;33m\u001b[0m\u001b[1;33m\u001b[0m\u001b[0m\n\u001b[1;32m-> 2657\u001b[1;33m                 \u001b[1;32mreturn\u001b[0m \u001b[0mself\u001b[0m\u001b[1;33m.\u001b[0m\u001b[0m_engine\u001b[0m\u001b[1;33m.\u001b[0m\u001b[0mget_loc\u001b[0m\u001b[1;33m(\u001b[0m\u001b[0mkey\u001b[0m\u001b[1;33m)\u001b[0m\u001b[1;33m\u001b[0m\u001b[1;33m\u001b[0m\u001b[0m\n\u001b[0m\u001b[0;32m   2658\u001b[0m             \u001b[1;32mexcept\u001b[0m \u001b[0mKeyError\u001b[0m\u001b[1;33m:\u001b[0m\u001b[1;33m\u001b[0m\u001b[1;33m\u001b[0m\u001b[0m\n",
      "\u001b[1;32mpandas/_libs/index.pyx\u001b[0m in \u001b[0;36mpandas._libs.index.IndexEngine.get_loc\u001b[1;34m()\u001b[0m\n",
      "\u001b[1;32mpandas/_libs/index.pyx\u001b[0m in \u001b[0;36mpandas._libs.index.IndexEngine.get_loc\u001b[1;34m()\u001b[0m\n",
      "\u001b[1;32mpandas/_libs/hashtable_class_helper.pxi\u001b[0m in \u001b[0;36mpandas._libs.hashtable.Int64HashTable.get_item\u001b[1;34m()\u001b[0m\n",
      "\u001b[1;32mpandas/_libs/hashtable_class_helper.pxi\u001b[0m in \u001b[0;36mpandas._libs.hashtable.Int64HashTable.get_item\u001b[1;34m()\u001b[0m\n",
      "\u001b[1;31mKeyError\u001b[0m: 4499",
      "\nDuring handling of the above exception, another exception occurred:\n",
      "\u001b[1;31mKeyError\u001b[0m                                  Traceback (most recent call last)",
      "\u001b[1;32m<ipython-input-29-936019506cff>\u001b[0m in \u001b[0;36m<module>\u001b[1;34m\u001b[0m\n\u001b[0;32m    110\u001b[0m     \u001b[0mprint\u001b[0m\u001b[1;33m(\u001b[0m\u001b[1;34m'Creating data plots...'\u001b[0m\u001b[1;33m)\u001b[0m\u001b[1;33m\u001b[0m\u001b[1;33m\u001b[0m\u001b[0m\n\u001b[0;32m    111\u001b[0m     \u001b[0mprint\u001b[0m\u001b[1;33m(\u001b[0m\u001b[1;34m'\\n'\u001b[0m\u001b[1;33m)\u001b[0m\u001b[1;33m\u001b[0m\u001b[1;33m\u001b[0m\u001b[0m\n\u001b[1;32m--> 112\u001b[1;33m     \u001b[0mquiver_plot\u001b[0m\u001b[1;33m(\u001b[0m\u001b[0mdf\u001b[0m\u001b[1;33m,\u001b[0m \u001b[0mdata_dirs\u001b[0m\u001b[1;33m[\u001b[0m\u001b[0mc\u001b[0m\u001b[1;33m]\u001b[0m\u001b[1;33m)\u001b[0m\u001b[1;33m\u001b[0m\u001b[1;33m\u001b[0m\u001b[0m\n\u001b[0m\u001b[0;32m    113\u001b[0m     \u001b[0mprint\u001b[0m\u001b[1;33m(\u001b[0m\u001b[1;34m'\\n'\u001b[0m\u001b[1;33m)\u001b[0m\u001b[1;33m\u001b[0m\u001b[1;33m\u001b[0m\u001b[0m\n\u001b[0;32m    114\u001b[0m     \u001b[0mprint\u001b[0m\u001b[1;33m(\u001b[0m\u001b[1;34m'Finished'\u001b[0m\u001b[1;33m)\u001b[0m\u001b[1;33m\u001b[0m\u001b[1;33m\u001b[0m\u001b[0m\n",
      "\u001b[1;32m<ipython-input-29-936019506cff>\u001b[0m in \u001b[0;36mquiver_plot\u001b[1;34m(df, general_directory)\u001b[0m\n\u001b[0;32m     71\u001b[0m                     \u001b[0mn\u001b[0m \u001b[1;33m=\u001b[0m\u001b[1;33m+\u001b[0m \u001b[1;36m1\u001b[0m\u001b[1;33m\u001b[0m\u001b[1;33m\u001b[0m\u001b[0m\n\u001b[0;32m     72\u001b[0m \u001b[1;33m\u001b[0m\u001b[0m\n\u001b[1;32m---> 73\u001b[1;33m         \u001b[0mxvel\u001b[0m \u001b[1;33m=\u001b[0m \u001b[1;33m(\u001b[0m\u001b[0mp1\u001b[0m\u001b[1;33m.\u001b[0m\u001b[0mix\u001b[0m\u001b[1;33m[\u001b[0m\u001b[0mi\u001b[0m\u001b[1;33m]\u001b[0m\u001b[1;33m.\u001b[0m\u001b[0mxvel\u001b[0m\u001b[1;33m)\u001b[0m\u001b[1;33m\u001b[0m\u001b[1;33m\u001b[0m\u001b[0m\n\u001b[0m\u001b[0;32m     74\u001b[0m         \u001b[0mqv\u001b[0m\u001b[1;33m.\u001b[0m\u001b[0mix\u001b[0m\u001b[1;33m[\u001b[0m\u001b[0mi\u001b[0m\u001b[1;33m]\u001b[0m\u001b[1;33m.\u001b[0m\u001b[0mxvel\u001b[0m \u001b[1;33m=\u001b[0m \u001b[0mxvel\u001b[0m\u001b[1;33m/\u001b[0m\u001b[0mn\u001b[0m\u001b[1;33m\u001b[0m\u001b[1;33m\u001b[0m\u001b[0m\n\u001b[0;32m     75\u001b[0m \u001b[1;33m\u001b[0m\u001b[0m\n",
      "\u001b[1;32m~\\AppData\\Local\\Continuum\\anaconda3\\lib\\site-packages\\pandas\\core\\indexing.py\u001b[0m in \u001b[0;36m__getitem__\u001b[1;34m(self, key)\u001b[0m\n\u001b[0;32m    124\u001b[0m \u001b[1;33m\u001b[0m\u001b[0m\n\u001b[0;32m    125\u001b[0m             \u001b[0mkey\u001b[0m \u001b[1;33m=\u001b[0m \u001b[0mcom\u001b[0m\u001b[1;33m.\u001b[0m\u001b[0mapply_if_callable\u001b[0m\u001b[1;33m(\u001b[0m\u001b[0mkey\u001b[0m\u001b[1;33m,\u001b[0m \u001b[0mself\u001b[0m\u001b[1;33m.\u001b[0m\u001b[0mobj\u001b[0m\u001b[1;33m)\u001b[0m\u001b[1;33m\u001b[0m\u001b[1;33m\u001b[0m\u001b[0m\n\u001b[1;32m--> 126\u001b[1;33m             \u001b[1;32mreturn\u001b[0m \u001b[0mself\u001b[0m\u001b[1;33m.\u001b[0m\u001b[0m_getitem_axis\u001b[0m\u001b[1;33m(\u001b[0m\u001b[0mkey\u001b[0m\u001b[1;33m,\u001b[0m \u001b[0maxis\u001b[0m\u001b[1;33m=\u001b[0m\u001b[0maxis\u001b[0m\u001b[1;33m)\u001b[0m\u001b[1;33m\u001b[0m\u001b[1;33m\u001b[0m\u001b[0m\n\u001b[0m\u001b[0;32m    127\u001b[0m \u001b[1;33m\u001b[0m\u001b[0m\n\u001b[0;32m    128\u001b[0m     \u001b[1;32mdef\u001b[0m \u001b[0m_get_label\u001b[0m\u001b[1;33m(\u001b[0m\u001b[0mself\u001b[0m\u001b[1;33m,\u001b[0m \u001b[0mlabel\u001b[0m\u001b[1;33m,\u001b[0m \u001b[0maxis\u001b[0m\u001b[1;33m=\u001b[0m\u001b[1;32mNone\u001b[0m\u001b[1;33m)\u001b[0m\u001b[1;33m:\u001b[0m\u001b[1;33m\u001b[0m\u001b[1;33m\u001b[0m\u001b[0m\n",
      "\u001b[1;32m~\\AppData\\Local\\Continuum\\anaconda3\\lib\\site-packages\\pandas\\core\\indexing.py\u001b[0m in \u001b[0;36m_getitem_axis\u001b[1;34m(self, key, axis)\u001b[0m\n\u001b[0;32m   1104\u001b[0m                     \u001b[1;32mreturn\u001b[0m \u001b[0mself\u001b[0m\u001b[1;33m.\u001b[0m\u001b[0m_get_loc\u001b[0m\u001b[1;33m(\u001b[0m\u001b[0mkey\u001b[0m\u001b[1;33m,\u001b[0m \u001b[0maxis\u001b[0m\u001b[1;33m=\u001b[0m\u001b[0maxis\u001b[0m\u001b[1;33m)\u001b[0m\u001b[1;33m\u001b[0m\u001b[1;33m\u001b[0m\u001b[0m\n\u001b[0;32m   1105\u001b[0m \u001b[1;33m\u001b[0m\u001b[0m\n\u001b[1;32m-> 1106\u001b[1;33m             \u001b[1;32mreturn\u001b[0m \u001b[0mself\u001b[0m\u001b[1;33m.\u001b[0m\u001b[0m_get_label\u001b[0m\u001b[1;33m(\u001b[0m\u001b[0mkey\u001b[0m\u001b[1;33m,\u001b[0m \u001b[0maxis\u001b[0m\u001b[1;33m=\u001b[0m\u001b[0maxis\u001b[0m\u001b[1;33m)\u001b[0m\u001b[1;33m\u001b[0m\u001b[1;33m\u001b[0m\u001b[0m\n\u001b[0m\u001b[0;32m   1107\u001b[0m \u001b[1;33m\u001b[0m\u001b[0m\n\u001b[0;32m   1108\u001b[0m     \u001b[1;32mdef\u001b[0m \u001b[0m_get_listlike_indexer\u001b[0m\u001b[1;33m(\u001b[0m\u001b[0mself\u001b[0m\u001b[1;33m,\u001b[0m \u001b[0mkey\u001b[0m\u001b[1;33m,\u001b[0m \u001b[0maxis\u001b[0m\u001b[1;33m,\u001b[0m \u001b[0mraise_missing\u001b[0m\u001b[1;33m=\u001b[0m\u001b[1;32mFalse\u001b[0m\u001b[1;33m)\u001b[0m\u001b[1;33m:\u001b[0m\u001b[1;33m\u001b[0m\u001b[1;33m\u001b[0m\u001b[0m\n",
      "\u001b[1;32m~\\AppData\\Local\\Continuum\\anaconda3\\lib\\site-packages\\pandas\\core\\indexing.py\u001b[0m in \u001b[0;36m_get_label\u001b[1;34m(self, label, axis)\u001b[0m\n\u001b[0;32m    139\u001b[0m             \u001b[1;32mraise\u001b[0m \u001b[0mIndexingError\u001b[0m\u001b[1;33m(\u001b[0m\u001b[1;34m'no slices here, handle elsewhere'\u001b[0m\u001b[1;33m)\u001b[0m\u001b[1;33m\u001b[0m\u001b[1;33m\u001b[0m\u001b[0m\n\u001b[0;32m    140\u001b[0m \u001b[1;33m\u001b[0m\u001b[0m\n\u001b[1;32m--> 141\u001b[1;33m         \u001b[1;32mreturn\u001b[0m \u001b[0mself\u001b[0m\u001b[1;33m.\u001b[0m\u001b[0mobj\u001b[0m\u001b[1;33m.\u001b[0m\u001b[0m_xs\u001b[0m\u001b[1;33m(\u001b[0m\u001b[0mlabel\u001b[0m\u001b[1;33m,\u001b[0m \u001b[0maxis\u001b[0m\u001b[1;33m=\u001b[0m\u001b[0maxis\u001b[0m\u001b[1;33m)\u001b[0m\u001b[1;33m\u001b[0m\u001b[1;33m\u001b[0m\u001b[0m\n\u001b[0m\u001b[0;32m    142\u001b[0m \u001b[1;33m\u001b[0m\u001b[0m\n\u001b[0;32m    143\u001b[0m     \u001b[1;32mdef\u001b[0m \u001b[0m_get_loc\u001b[0m\u001b[1;33m(\u001b[0m\u001b[0mself\u001b[0m\u001b[1;33m,\u001b[0m \u001b[0mkey\u001b[0m\u001b[1;33m,\u001b[0m \u001b[0maxis\u001b[0m\u001b[1;33m=\u001b[0m\u001b[1;32mNone\u001b[0m\u001b[1;33m)\u001b[0m\u001b[1;33m:\u001b[0m\u001b[1;33m\u001b[0m\u001b[1;33m\u001b[0m\u001b[0m\n",
      "\u001b[1;32m~\\AppData\\Local\\Continuum\\anaconda3\\lib\\site-packages\\pandas\\core\\generic.py\u001b[0m in \u001b[0;36mxs\u001b[1;34m(self, key, axis, level, drop_level)\u001b[0m\n\u001b[0;32m   3583\u001b[0m                                                       drop_level=drop_level)\n\u001b[0;32m   3584\u001b[0m         \u001b[1;32melse\u001b[0m\u001b[1;33m:\u001b[0m\u001b[1;33m\u001b[0m\u001b[1;33m\u001b[0m\u001b[0m\n\u001b[1;32m-> 3585\u001b[1;33m             \u001b[0mloc\u001b[0m \u001b[1;33m=\u001b[0m \u001b[0mself\u001b[0m\u001b[1;33m.\u001b[0m\u001b[0mindex\u001b[0m\u001b[1;33m.\u001b[0m\u001b[0mget_loc\u001b[0m\u001b[1;33m(\u001b[0m\u001b[0mkey\u001b[0m\u001b[1;33m)\u001b[0m\u001b[1;33m\u001b[0m\u001b[1;33m\u001b[0m\u001b[0m\n\u001b[0m\u001b[0;32m   3586\u001b[0m \u001b[1;33m\u001b[0m\u001b[0m\n\u001b[0;32m   3587\u001b[0m             \u001b[1;32mif\u001b[0m \u001b[0misinstance\u001b[0m\u001b[1;33m(\u001b[0m\u001b[0mloc\u001b[0m\u001b[1;33m,\u001b[0m \u001b[0mnp\u001b[0m\u001b[1;33m.\u001b[0m\u001b[0mndarray\u001b[0m\u001b[1;33m)\u001b[0m\u001b[1;33m:\u001b[0m\u001b[1;33m\u001b[0m\u001b[1;33m\u001b[0m\u001b[0m\n",
      "\u001b[1;32m~\\AppData\\Local\\Continuum\\anaconda3\\lib\\site-packages\\pandas\\core\\indexes\\base.py\u001b[0m in \u001b[0;36mget_loc\u001b[1;34m(self, key, method, tolerance)\u001b[0m\n\u001b[0;32m   2657\u001b[0m                 \u001b[1;32mreturn\u001b[0m \u001b[0mself\u001b[0m\u001b[1;33m.\u001b[0m\u001b[0m_engine\u001b[0m\u001b[1;33m.\u001b[0m\u001b[0mget_loc\u001b[0m\u001b[1;33m(\u001b[0m\u001b[0mkey\u001b[0m\u001b[1;33m)\u001b[0m\u001b[1;33m\u001b[0m\u001b[1;33m\u001b[0m\u001b[0m\n\u001b[0;32m   2658\u001b[0m             \u001b[1;32mexcept\u001b[0m \u001b[0mKeyError\u001b[0m\u001b[1;33m:\u001b[0m\u001b[1;33m\u001b[0m\u001b[1;33m\u001b[0m\u001b[0m\n\u001b[1;32m-> 2659\u001b[1;33m                 \u001b[1;32mreturn\u001b[0m \u001b[0mself\u001b[0m\u001b[1;33m.\u001b[0m\u001b[0m_engine\u001b[0m\u001b[1;33m.\u001b[0m\u001b[0mget_loc\u001b[0m\u001b[1;33m(\u001b[0m\u001b[0mself\u001b[0m\u001b[1;33m.\u001b[0m\u001b[0m_maybe_cast_indexer\u001b[0m\u001b[1;33m(\u001b[0m\u001b[0mkey\u001b[0m\u001b[1;33m)\u001b[0m\u001b[1;33m)\u001b[0m\u001b[1;33m\u001b[0m\u001b[1;33m\u001b[0m\u001b[0m\n\u001b[0m\u001b[0;32m   2660\u001b[0m         \u001b[0mindexer\u001b[0m \u001b[1;33m=\u001b[0m \u001b[0mself\u001b[0m\u001b[1;33m.\u001b[0m\u001b[0mget_indexer\u001b[0m\u001b[1;33m(\u001b[0m\u001b[1;33m[\u001b[0m\u001b[0mkey\u001b[0m\u001b[1;33m]\u001b[0m\u001b[1;33m,\u001b[0m \u001b[0mmethod\u001b[0m\u001b[1;33m=\u001b[0m\u001b[0mmethod\u001b[0m\u001b[1;33m,\u001b[0m \u001b[0mtolerance\u001b[0m\u001b[1;33m=\u001b[0m\u001b[0mtolerance\u001b[0m\u001b[1;33m)\u001b[0m\u001b[1;33m\u001b[0m\u001b[1;33m\u001b[0m\u001b[0m\n\u001b[0;32m   2661\u001b[0m         \u001b[1;32mif\u001b[0m \u001b[0mindexer\u001b[0m\u001b[1;33m.\u001b[0m\u001b[0mndim\u001b[0m \u001b[1;33m>\u001b[0m \u001b[1;36m1\u001b[0m \u001b[1;32mor\u001b[0m \u001b[0mindexer\u001b[0m\u001b[1;33m.\u001b[0m\u001b[0msize\u001b[0m \u001b[1;33m>\u001b[0m \u001b[1;36m1\u001b[0m\u001b[1;33m:\u001b[0m\u001b[1;33m\u001b[0m\u001b[1;33m\u001b[0m\u001b[0m\n",
      "\u001b[1;32mpandas/_libs/index.pyx\u001b[0m in \u001b[0;36mpandas._libs.index.IndexEngine.get_loc\u001b[1;34m()\u001b[0m\n",
      "\u001b[1;32mpandas/_libs/index.pyx\u001b[0m in \u001b[0;36mpandas._libs.index.IndexEngine.get_loc\u001b[1;34m()\u001b[0m\n",
      "\u001b[1;32mpandas/_libs/hashtable_class_helper.pxi\u001b[0m in \u001b[0;36mpandas._libs.hashtable.Int64HashTable.get_item\u001b[1;34m()\u001b[0m\n",
      "\u001b[1;32mpandas/_libs/hashtable_class_helper.pxi\u001b[0m in \u001b[0;36mpandas._libs.hashtable.Int64HashTable.get_item\u001b[1;34m()\u001b[0m\n",
      "\u001b[1;31mKeyError\u001b[0m: 4499"
     ]
    }
   ],
   "source": [
    "from scipy import *\n",
    "import seaborn as sns\n",
    "import matplotlib.pyplot as plt\n",
    "from matplotlib.animation import FuncAnimation\n",
    "from process_pickle_quiver import process_pickle_quiver\n",
    "import pandas as pd\n",
    "\n",
    "def quiver_plot(df, general_directory):\n",
    "    if not os.path.exists(general_directory + \"/figures\"):\n",
    "        os.makedirs(general_directory + \"/figures\")\n",
    "    \n",
    "    #import ipdb; ipdb.set_trace() # debugging for quiver_plot function\n",
    "    \n",
    "    particles = df.particle.unique()\n",
    "    \n",
    "    frames = list((np.linspace(0,29,30)))\n",
    "    \n",
    "    index_frames = list(map(int, frames))\n",
    "    \n",
    "    qv = pd.read_excel(general_directory + '/data_quiver.xlsx', usecols=[10])\n",
    "    \n",
    "    for c, particle in enumerate(particles):\n",
    "        sys.stdout.write(\"\\r Creating dataframes for particles: {:.2%}\".format(c/len(particles)))\n",
    "        sys.stdout.flush()\n",
    "        p = df[df.particle == particle]        \n",
    "        \n",
    "        for i in p.index[1:]:\n",
    "            p.ix[(df['frame'] >= (i)) & (df['frame'] < (i+1))] # Create mean of each variable over steps of 100 frames\n",
    "            x = p.ix[(df['frame'] >= (i)) & (df['frame'] < (i+1))].binx.mean()\n",
    "            y = p.ix[(df['frame'] >= (i)) & (df['frame'] < (i+1))].biny.mean() \n",
    "            xvel = p.ix[(df['frame'] >= (i)) & (df['frame'] < (i+1))].x_velocity.mean()\n",
    "            yvel = p.ix[(df['frame'] >= (i)) & (df['frame'] < (i+1))].y_velocity.mean()\n",
    "            vel_mod = p.ix[(df['frame'] >= (i)) & (df['frame'] < (i+1))].velocity.mean()       \n",
    "           \n",
    "            frame = int(float(i))\n",
    "                \n",
    "            qv.set_value(i, 'frame', frame) # Create new dataframe 'qv' containing only the variables needed for quiver plots           \n",
    "            qv.set_value(i, 'x', x)           \n",
    "            qv.set_value(i, 'y', y)          \n",
    "            qv.set_value(i, 'xvel', xvel)\n",
    "            qv.set_value(i, 'yvel', yvel)           \n",
    "            qv.set_value(i, 'vel_mod', vel_mod)\n",
    "        \n",
    "        particles2 = qv.particle.unique()\n",
    "\n",
    "        p1 = qv[qv.particle == particle]\n",
    "        \n",
    "        x1 = p1.ix[i].x.item()\n",
    "        y1 = p1.ix[i].y.item()\n",
    "        vx1 = p1.ix[i].xvel.item()\n",
    "        vy1 = p1.ix[i].yvel.item()\n",
    "        v1 = p1.ix[i].vel_mod.item()\n",
    "\n",
    "    \n",
    "        for c, particle2 in enumerate(particles2): # Averaging values for all particles in a bin at a given timestep     \n",
    "            p1 = qv[qv.particle == particle]\n",
    "            p2 = qv[qv.particle == particle2]\n",
    "            \n",
    "            for i in p2.index[1:]:              \n",
    "                x2 = p2.ix[i].x.item()               \n",
    "                y2 = p2.ix[i].y.item()               \n",
    "                vx2 = p2.ix[i].xvel.item()             \n",
    "                vy2 = p2.ix[i].yvel.item()                \n",
    "                v2 = p2.ix[i].vel_mod.item()\n",
    "                \n",
    "                if (x1 == x2) & (y1 == y2):\n",
    "                    p1.ix[i].xvel = p1.ix[i].xvel + vx2                  \n",
    "                    p1.ix[i].yvel = p1.ix[i].yvel + (vy2)                   \n",
    "                    p1.ix[i].vel_mod = p1.ix[i].vel_mod + (v2)\n",
    "                    \n",
    "                    n =+ 1\n",
    "            \n",
    "        xvel = (p1.ix[i].xvel)\n",
    "        qv.ix[i].xvel = xvel/n\n",
    "            \n",
    "        yvel = (p1.ix[i].yvel)\n",
    "        qv.ix[i].yvel = xvel/n\n",
    "            \n",
    "        vel_mod = (p1.ix[i].vel_mod)\n",
    "        qv.ix[i].vel_mod = vel_mod/n\n",
    "        \n",
    "    sys.stdout.write(\"\\r Creating dataframes for particles: {:.2%}\".format(1/1))\n",
    "    \n",
    "    qv.to_excel(general_directory + \"/quiver_data.xlsx\") # Export of qv dataframe to confirm correct formatting before plotting graphs\n",
    "    \n",
    "    group = qv.groupby('frame') # Quiverkey plot with 'iterator' function to step through frames\n",
    "    \n",
    "    fig = plt.figure()\n",
    "    ax = fig.add_subplot(1, 1, 1)\n",
    "    ax.set_xlim(0, 500)\n",
    "    ax.set_ylim(0, 1300)\n",
    "    \n",
    "    plot = ax.quiver([], [], [], [], cmap='RdBu', headlength=3)\n",
    "    \n",
    "    iterator = iter(group)\n",
    "    \n",
    "    def update(i):\n",
    "        key, qv = next(iterator)        \n",
    "        plot.set_offsets(np.column_stack([qv.x, qv.y]))        \n",
    "        plot.set_UVC(qv.xvel, qv.yvel, qv.vel_mod)\n",
    "        \n",
    "    ani = FuncAnimation(fig, update, interval=500)    \n",
    "    ani.save(general_directory + \"/quiver_animation.mp4\")\n",
    "    plt.show()\n",
    "       \n",
    "for c, param in enumerate(pkl_param):\n",
    "    # the process_pickle_quiver function is contained within a separate file - process_pickle_quiver.py\n",
    "    df = process_pickle_quiver(pkl_to_process[param[0]], data_dirs[c], param[1], param[2], param[3])\n",
    "    print('\\n')\n",
    "    print('Creating data plots...')\n",
    "    print('\\n')\n",
    "    quiver_plot(df, data_dirs[c])    \n",
    "    print('\\n')\n",
    "    print('Finished')"
   ]
  },
  {
   "cell_type": "code",
   "execution_count": null,
   "metadata": {},
   "outputs": [],
   "source": []
  },
  {
   "cell_type": "code",
   "execution_count": null,
   "metadata": {},
   "outputs": [],
   "source": []
  },
  {
   "cell_type": "code",
   "execution_count": null,
   "metadata": {},
   "outputs": [],
   "source": []
  },
  {
   "cell_type": "code",
   "execution_count": 18,
   "metadata": {
    "scrolled": true
   },
   "outputs": [
    {
     "name": "stdout",
     "output_type": "stream",
     "text": [
      " Calculating Displacement for particles: 100.00%\n",
      "\n",
      " Calculating Velocity for particle: 2.28%"
     ]
    },
    {
     "name": "stderr",
     "output_type": "stream",
     "text": [
      "C:\\Users\\lc16629\\OneDrive - University of Bristol\\Desktop\\Python\\Trajectory analysis code\\process_pickle.py:84: FutureWarning: set_value is deprecated and will be removed in a future release. Please use .at[] or .iat[] accessors instead\n",
      "  df1.set_value(ind, 'velocity', vel )\n"
     ]
    },
    {
     "name": "stdout",
     "output_type": "stream",
     "text": [
      " Calculating Velocity for particle: 100.00%\n",
      "\n",
      " Calculating Y Velocity for particle: 2.40%"
     ]
    },
    {
     "name": "stderr",
     "output_type": "stream",
     "text": [
      "C:\\Users\\lc16629\\OneDrive - University of Bristol\\Desktop\\Python\\Trajectory analysis code\\process_pickle.py:114: FutureWarning: set_value is deprecated and will be removed in a future release. Please use .at[] or .iat[] accessors instead\n",
      "  final_df.set_value(ind, 'y_velocity', y_vel )\n"
     ]
    },
    {
     "name": "stdout",
     "output_type": "stream",
     "text": [
      " Calculating Y Velocity for particle: 100.00%\n",
      "\n",
      " Calculating X Velocity for particle: 2.40%"
     ]
    },
    {
     "name": "stderr",
     "output_type": "stream",
     "text": [
      "C:\\Users\\lc16629\\OneDrive - University of Bristol\\Desktop\\Python\\Trajectory analysis code\\process_pickle.py:137: FutureWarning: set_value is deprecated and will be removed in a future release. Please use .at[] or .iat[] accessors instead\n",
      "  final_df.set_value(ind, 'x_velocity', x_vel)\n"
     ]
    },
    {
     "name": "stdout",
     "output_type": "stream",
     "text": [
      " Calculating X Velocity for particle: 100.00%\n",
      "\n",
      "Storing data...\n"
     ]
    },
    {
     "name": "stderr",
     "output_type": "stream",
     "text": [
      "findfont: Font family ['serif'] not found. Falling back to DejaVu Sans.\n"
     ]
    },
    {
     "name": "stdout",
     "output_type": "stream",
     "text": [
      "Finished\n"
     ]
    },
    {
     "name": "stderr",
     "output_type": "stream",
     "text": [
      "C:\\Users\\lc16629\\AppData\\Local\\Continuum\\anaconda3\\lib\\site-packages\\numpy\\lib\\histograms.py:824: RuntimeWarning: invalid value encountered in greater_equal\n",
      "  keep = (tmp_a >= first_edge)\n",
      "C:\\Users\\lc16629\\AppData\\Local\\Continuum\\anaconda3\\lib\\site-packages\\numpy\\lib\\histograms.py:825: RuntimeWarning: invalid value encountered in less_equal\n",
      "  keep &= (tmp_a <= last_edge)\n",
      "C:\\Users\\lc16629\\AppData\\Local\\Continuum\\anaconda3\\lib\\site-packages\\numpy\\lib\\histograms.py:824: RuntimeWarning: invalid value encountered in greater_equal\n",
      "  keep = (tmp_a >= first_edge)\n",
      "C:\\Users\\lc16629\\AppData\\Local\\Continuum\\anaconda3\\lib\\site-packages\\numpy\\lib\\histograms.py:825: RuntimeWarning: invalid value encountered in less_equal\n",
      "  keep &= (tmp_a <= last_edge)\n"
     ]
    },
    {
     "data": {
      "image/png": "[encoded data removed]",
      "text/plain": [
       "<Figure size 432x288 with 1 Axes>"
      ]
     },
     "metadata": {
      "needs_background": "light"
     },
     "output_type": "display_data"
    },
    {
     "data": {
      "text/plain": [
       "<Figure size 432x288 with 0 Axes>"
      ]
     },
     "metadata": {},
     "output_type": "display_data"
    },
    {
     "data": {
      "image/png": "[encoded data removed]",
      "text/plain": [
       "<Figure size 432x288 with 1 Axes>"
      ]
     },
     "metadata": {
      "needs_background": "light"
     },
     "output_type": "display_data"
    },
    {
     "data": {
      "image/png": "[encoded data removed]",
      "text/plain": [
       "<Figure size 432x288 with 1 Axes>"
      ]
     },
     "metadata": {
      "needs_background": "light"
     },
     "output_type": "display_data"
    }
   ],
   "source": [
    "# for each set of calculations requested: run the calculations, then produce the charts based on the results and save them\n",
    "\n",
    "for c, param in enumerate(pkl_param):\n",
    "    # the process_pickle function is contained within a separate file - process_pickle.py\n",
    "    df = process_pickle(pkl_to_process[param[0]], data_dirs[c], param[1], param[2], param[3])\n",
    "    produce_charts(df, data_dirs[c])\n",
    "    \n",
    "    "
   ]
  },
  {
   "cell_type": "code",
   "execution_count": null,
   "metadata": {},
   "outputs": [],
   "source": []
  },
  {
   "cell_type": "code",
   "execution_count": null,
   "metadata": {
    "scrolled": true
   },
   "outputs": [],
   "source": []
  }
 ],
 "metadata": {
  "anaconda-cloud": {},
  "kernelspec": {
   "display_name": "Python 3",
   "language": "python",
   "name": "python3"
  },
  "language_info": {
   "codemirror_mode": {
    "name": "ipython",
    "version": 3
   },
   "file_extension": ".py",
   "mimetype": "text/x-python",
   "name": "python",
   "nbconvert_exporter": "python",
   "pygments_lexer": "ipython3",
   "version": "3.7.3"
  }
 },
 "nbformat": 4,
 "nbformat_minor": 4
}
